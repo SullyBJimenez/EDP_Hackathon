{
 "cells": [
  {
   "cell_type": "code",
   "execution_count": 12,
   "metadata": {},
   "outputs": [],
   "source": [
    "import pickle\n",
    "import numpy as np\n",
    "import pandas as pd"
   ]
  },
  {
   "cell_type": "code",
   "execution_count": 13,
   "metadata": {},
   "outputs": [],
   "source": [
    "# Load Model\n",
    "with open('salary_prediction_model.pkl', 'rb') as f:\n",
    "    model = pickle.load(f)"
   ]
  },
  {
   "cell_type": "code",
   "execution_count": 14,
   "metadata": {},
   "outputs": [],
   "source": [
    "# Format prediction input\n",
    "input_dict = {\n",
    "    'jobRole_CEO': [0],\n",
    "    'jobRole_Customer Service': [0],\n",
    "    'jobRole_HR': [0],\n",
    "    'jobRole_Manager': [0],\n",
    "    'jobRole_Sales': [0],\n",
    "    'jobRole_Tech': [0],\n",
    "    'location_Hartford': [0],\n",
    "    'location_New York': [0],\n",
    "    'location_St. Paul': [0],\n",
    "    'location_West Bridgewater': [0],\n",
    "}"
   ]
  },
  {
   "cell_type": "code",
   "execution_count": 15,
   "metadata": {},
   "outputs": [],
   "source": [
    "# Take in inputs and modify input dict\n",
    "valid_job_roles = {'CEO', 'Customer Service', 'HR', 'Manager', 'Sales', 'Tech'}\n",
    "valid_locations = {'Hartford', 'New York', 'St. Paul', 'West Bridgewater'}\n",
    "\n",
    "def format_input(job_role: str, location: str) -> None:\n",
    "    if job_role not in valid_job_roles:\n",
    "        raise ValueError('Invalid job role provided')\n",
    "    elif location not in valid_locations:\n",
    "        raise ValueError('Invalid location provided')\n",
    "    \n",
    "    input_dict[f'jobRole_{job_role}'] = [1]\n",
    "    input_dict[f'location_{location}'] = [1]"
   ]
  },
  {
   "cell_type": "code",
   "execution_count": 16,
   "metadata": {},
   "outputs": [
    {
     "data": {
      "text/plain": [
       "{'jobRole_CEO': [0],\n",
       " 'jobRole_Customer Service': [0],\n",
       " 'jobRole_HR': [1],\n",
       " 'jobRole_Manager': [0],\n",
       " 'jobRole_Sales': [0],\n",
       " 'jobRole_Tech': [0],\n",
       " 'location_Hartford': [1],\n",
       " 'location_New York': [0],\n",
       " 'location_St. Paul': [0],\n",
       " 'location_West Bridgewater': [0]}"
      ]
     },
     "execution_count": 16,
     "metadata": {},
     "output_type": "execute_result"
    }
   ],
   "source": [
    "test_job_role = 'HR'\n",
    "test_location = 'Hartford'\n",
    "\n",
    "format_input(test_job_role, test_location)\n",
    "input_dict"
   ]
  },
  {
   "cell_type": "code",
   "execution_count": 17,
   "metadata": {},
   "outputs": [
    {
     "name": "stdout",
     "output_type": "stream",
     "text": [
      "An employee in the HR role based in Hartford can be expected to earn $78720.00\n"
     ]
    },
    {
     "name": "stderr",
     "output_type": "stream",
     "text": [
      "c:\\Users\\wasadmin\\anaconda3\\lib\\site-packages\\sklearn\\base.py:420: UserWarning: X does not have valid feature names, but LinearRegression was fitted with feature names\n",
      "  warnings.warn(\n"
     ]
    }
   ],
   "source": [
    "# dict -> df\n",
    "input_df = pd.DataFrame(input_dict)\n",
    "\n",
    "features = input_df.to_numpy()\n",
    "\n",
    "prediction = model.predict(features)[0]\n",
    "print(f'An employee in the {test_job_role} role based in {test_location} can be expected to earn ${prediction}0')"
   ]
  }
 ],
 "metadata": {
  "kernelspec": {
   "display_name": "base",
   "language": "python",
   "name": "python3"
  },
  "language_info": {
   "codemirror_mode": {
    "name": "ipython",
    "version": 3
   },
   "file_extension": ".py",
   "mimetype": "text/x-python",
   "name": "python",
   "nbconvert_exporter": "python",
   "pygments_lexer": "ipython3",
   "version": "3.10.9"
  }
 },
 "nbformat": 4,
 "nbformat_minor": 2
}
